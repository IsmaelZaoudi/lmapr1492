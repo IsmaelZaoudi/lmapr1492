{
 "cells": [
  {
   "cell_type": "code",
   "execution_count": 40,
   "id": "82319f54",
   "metadata": {},
   "outputs": [],
   "source": [
    "import numpy as np\n",
    "from mp_api.client import MPRester\n",
    "from pymatgen.core.operations import SymmOp\n",
    "from pymatgen.symmetry.analyzer import SpacegroupAnalyzer\n",
    "from jupyter_jsmol.pymatgen import quick_view\n",
    "from plotly.subplots import make_subplots\n",
    "import plotly.graph_objects as go"
   ]
  },
  {
   "cell_type": "code",
   "execution_count": 41,
   "id": "e5946fbc",
   "metadata": {},
   "outputs": [],
   "source": [
    "mp_key = \"0TSH4JPmYApoWkybWbmreInYgdHzp5GT\"\n",
    "mp_id = \"mp-29678\""
   ]
  },
  {
   "cell_type": "code",
   "execution_count": 49,
   "id": "17d2d5fe",
   "metadata": {},
   "outputs": [
    {
     "data": {
      "application/vnd.jupyter.widget-view+json": {
       "model_id": "0dd3dc7254ab43e18226314937272b86",
       "version_major": 2,
       "version_minor": 0
      },
      "text/plain": [
       "Retrieving MaterialsDoc documents:   0%|          | 0/1 [00:00<?, ?it/s]"
      ]
     },
     "metadata": {},
     "output_type": "display_data"
    }
   ],
   "source": [
    "with MPRester(mp_key) as m:\n",
    "    prim_struc = m.get_structure_by_material_id(mp_id)\n",
    "sga = SpacegroupAnalyzer(prim_struc)\n",
    "conv_struc = SpacegroupAnalyzer(prim_struc).get_conventional_standard_structure()"
   ]
  },
  {
   "cell_type": "code",
   "execution_count": 43,
   "id": "b122384e",
   "metadata": {},
   "outputs": [
    {
     "name": "stdout",
     "output_type": "stream",
     "text": [
      "Vecteurs du réseau direct [Å] :\n",
      "a =  [ 0.633115  2.024872 -3.449564]\n",
      "b =  [ 0.633115 -2.024872 -3.449564]\n",
      "c =  [-5.842968  0.       -3.449564]\n"
     ]
    }
   ],
   "source": [
    "direct_lattice_vectors = prim_struc.lattice.matrix\n",
    "print(\"Vecteurs du réseau direct [Å] :\")\n",
    "print(\"a = \",direct_lattice_vectors[0])\n",
    "print(\"b = \",direct_lattice_vectors[1])\n",
    "print(\"c = \",direct_lattice_vectors[2])"
   ]
  },
  {
   "cell_type": "code",
   "execution_count": 44,
   "id": "d01a5223",
   "metadata": {},
   "outputs": [
    {
     "name": "stdout",
     "output_type": "stream",
     "text": [
      "Vecteurs du réseau réciproque [Å] :\n",
      "a* =  [ 0.48510692  1.55150185 -0.82168766]\n",
      "b* =  [ 0.48510692 -1.55150185 -0.82168766]\n",
      "c* =  [-9.70213833e-01  4.30628269e-17 -1.78067991e-01]\n"
     ]
    }
   ],
   "source": [
    "reciprocal_lattice_vectors = prim_struc.lattice.reciprocal_lattice.matrix\n",
    "print(\"Vecteurs du réseau réciproque [Å] :\")\n",
    "print(\"a* = \",reciprocal_lattice_vectors[0])\n",
    "print(\"b* = \",reciprocal_lattice_vectors[1])\n",
    "print(\"c* = \",reciprocal_lattice_vectors[2])"
   ]
  },
  {
   "cell_type": "code",
   "execution_count": 45,
   "id": "d00f92c8",
   "metadata": {},
   "outputs": [
    {
     "name": "stdout",
     "output_type": "stream",
     "text": [
      "Type de maille : rhombohedral\n"
     ]
    }
   ],
   "source": [
    "lattice_type = sga.get_lattice_type()\n",
    "print(\"Type de maille :\", lattice_type)"
   ]
  },
  {
   "cell_type": "code",
   "execution_count": 46,
   "id": "de13df2c",
   "metadata": {},
   "outputs": [
    {
     "name": "stdout",
     "output_type": "stream",
     "text": [
      "Système cristallin : trigonal\n"
     ]
    }
   ],
   "source": [
    "crystal_system = sga.get_crystal_system()\n",
    "print(\"Système cristallin :\", crystal_system)"
   ]
  },
  {
   "cell_type": "code",
   "execution_count": 47,
   "id": "637d62e1",
   "metadata": {},
   "outputs": [
    {
     "name": "stdout",
     "output_type": "stream",
     "text": [
      "Groupe ponctuel : -3m\n"
     ]
    }
   ],
   "source": [
    "point_group = sga.get_point_group_symbol()\n",
    "print(\"Groupe ponctuel :\", point_group)\n"
   ]
  },
  {
   "cell_type": "code",
   "execution_count": 48,
   "id": "92119413",
   "metadata": {},
   "outputs": [
    {
     "data": {
      "application/vnd.jupyter.widget-view+json": {
       "model_id": "97ebeba16a1f449e8ea3d2b03e4a3b4b",
       "version_major": 2,
       "version_minor": 0
      },
      "text/plain": [
       "JsmolView(layout=Layout(align_self='stretch', height='400px'))"
      ]
     },
     "metadata": {},
     "output_type": "display_data"
    }
   ],
   "source": [
    "view = quick_view(prim_struc, \"packed\", conventional = False)\n",
    "display(view)"
   ]
  },
  {
   "cell_type": "code",
   "execution_count": null,
   "id": "240ab29a",
   "metadata": {},
   "outputs": [],
   "source": []
  }
 ],
 "metadata": {
  "kernelspec": {
   "display_name": "Python 3 (ipykernel)",
   "language": "python",
   "name": "python3"
  },
  "language_info": {
   "codemirror_mode": {
    "name": "ipython",
    "version": 3
   },
   "file_extension": ".py",
   "mimetype": "text/x-python",
   "name": "python",
   "nbconvert_exporter": "python",
   "pygments_lexer": "ipython3",
   "version": "3.9.13"
  }
 },
 "nbformat": 4,
 "nbformat_minor": 5
}
