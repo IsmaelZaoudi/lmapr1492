{
 "cells": [
  {
   "cell_type": "code",
   "execution_count": 5,
   "id": "8e41b492",
   "metadata": {},
   "outputs": [],
   "source": [
    "import numpy as np\n",
    "from mp_api.client import MPRester\n",
    "from pymatgen.core.operations import SymmOp\n",
    "from pymatgen.symmetry.analyzer import SpacegroupAnalyzer\n",
    "from pymatgen.electronic_structure.plotter import BSPlotter\n",
    "from pymatgen.phonon.plotter import PhononBSPlotter\n",
    "from jupyter_jsmol.pymatgen import quick_view\n",
    "from lmapr1492 import plot_brillouin_zone, get_plot_bs, get_plot_dos, get_plot_bs_and_dos, get_branch_wavevectors\n",
    "from plotly.subplots import make_subplots\n",
    "import plotly.graph_objects as go\n",
    "from jupyter_jsmol import JsmolView\n",
    "from ipywidgets import Layout, widgets, interact\n",
    "from IPython.display import display"
   ]
  },
  {
   "cell_type": "code",
   "execution_count": 6,
   "id": "68479a66",
   "metadata": {},
   "outputs": [],
   "source": [
    "mp_key = \"0TSH4JPmYApoWkybWbmreInYgdHzp5GT\"\n",
    "mp_id = \"mp-29678\""
   ]
  },
  {
   "cell_type": "code",
   "execution_count": 7,
   "id": "f312daca",
   "metadata": {},
   "outputs": [
    {
     "data": {
      "application/vnd.jupyter.widget-view+json": {
       "model_id": "6c81af8bacb64f2ab08d020c18ad9daa",
       "version_major": 2,
       "version_minor": 0
      },
      "text/plain": [
       "Retrieving MaterialsDoc documents:   0%|          | 0/1 [00:00<?, ?it/s]"
      ]
     },
     "metadata": {},
     "output_type": "display_data"
    },
    {
     "data": {
      "application/vnd.jupyter.widget-view+json": {
       "model_id": "05469fb95a8d4ce5b8449f60a667bf86",
       "version_major": 2,
       "version_minor": 0
      },
      "text/plain": [
       "Retrieving ElectronicStructureDoc documents:   0%|          | 0/1 [00:00<?, ?it/s]"
      ]
     },
     "metadata": {},
     "output_type": "display_data"
    }
   ],
   "source": [
    "with MPRester(mp_key) as m:\n",
    "    prim_struc = m.get_structure_by_material_id(mp_id)\n",
    "    el_dos = m.get_dos_by_material_id(mp_id)\n",
    "conv_struc = SpacegroupAnalyzer(prim_struc).get_conventional_standard_structure()\n",
    "symmops = SpacegroupAnalyzer(conv_struc).get_space_group_operations()"
   ]
  },
  {
   "cell_type": "markdown",
   "id": "8f2169bb",
   "metadata": {},
   "source": [
    "# Structure symmetry"
   ]
  },
  {
   "cell_type": "code",
   "execution_count": 8,
   "id": "d91e59d6-b967-4826-a2de-55966c0d65dc",
   "metadata": {
    "scrolled": false
   },
   "outputs": [
    {
     "name": "stdout",
     "output_type": "stream",
     "text": [
      "Première opération de symétrie : Rotation d'ordre 6 (x, y, z)->(-y, -x+y, -z)\n",
      "Rot:\n",
      "[[ 0.  1.  0.]\n",
      " [-1.  1.  0.]\n",
      " [ 0.  0. -1.]]\n",
      "tau\n",
      "[0. 0. 0.]\n",
      "Position initiale :  [0.66666667 0.33333333 0.83333333]\n",
      "Position après symétrie :  [ 0.33333333 -0.33333333 -0.83333333]\n",
      "color lightsalmon : Argon\n",
      "color gold : Bismuth\n",
      "color palegreen : Sulfur\n"
     ]
    },
    {
     "data": {
      "application/vnd.jupyter.widget-view+json": {
       "model_id": "55dee548ad4147a5bc833e93a94c087d",
       "version_major": 2,
       "version_minor": 0
      },
      "text/plain": [
       "JsmolView(layout=Layout(align_self='stretch', height='400px'))"
      ]
     },
     "metadata": {},
     "output_type": "display_data"
    }
   ],
   "source": [
    "print(\"Première opération de symétrie : Rotation d'ordre 6 (x, y, z)->(-y, -x+y, -z)\")\n",
    "i_atom = 3\n",
    "i_symmop = 4\n",
    "symmop = symmops[i_symmop - 1]\n",
    "print(symmop)\n",
    "pos_init = conv_struc.sites[i_atom -1].frac_coords\n",
    "print(\"Position initiale : \",pos_init)\n",
    "pos_final = symmop.operate(pos_init)\n",
    "print(\"Position après symétrie : \",pos_final)\n",
    "print(\"color lightsalmon : Argon\")\n",
    "print(\"color gold : Bismuth\")\n",
    "print(\"color palegreen : Sulfur\")\n",
    "\n",
    "view = quick_view(prim_struc, \"packed\", conventional = True)\n",
    "display(view)\n",
    "view.script('draw SYMOP ' + str(i_symmop) + ' {atomno = ' + str(i_atom) + '}')\n",
    "view.script('select argon; color lightsalmon')\n",
    "view.script('select bismuth; color gold')\n",
    "view.script('select sulfur; color palegreen')\n",
    "view.script('draw SYMOP ' + str(i_symmop) + ' {atomno = ' + str(i_atom) + '}')"
   ]
  },
  {
   "cell_type": "code",
   "execution_count": 18,
   "id": "ce6efddc",
   "metadata": {},
   "outputs": [
    {
     "name": "stdout",
     "output_type": "stream",
     "text": [
      "Deuxième opération de symétrie : plan de glissment axial (x, y, z)->(-y, -x, z) + c/2\n",
      "Rot:\n",
      "[[ 0. -1.  0.]\n",
      " [-1.  0.  0.]\n",
      " [ 0.  0.  1.]]\n",
      "tau\n",
      "[0.66666667 0.33333333 0.33333333]\n",
      "Position initiale :  [1.  1.  0.5]\n",
      "Position après symétrie :  [-0.33333333 -0.66666667  0.83333333]\n",
      "color lightsalmon : Argon\n",
      "color gold : Bismuth\n",
      "color palegreen : Sulfur\n"
     ]
    },
    {
     "data": {
      "application/vnd.jupyter.widget-view+json": {
       "model_id": "fe561ebf2abe4a2483f375cac2b8ac1d",
       "version_major": 2,
       "version_minor": 0
      },
      "text/plain": [
       "JsmolView(layout=Layout(align_self='stretch', height='400px'))"
      ]
     },
     "metadata": {},
     "output_type": "display_data"
    }
   ],
   "source": [
    "print(\"Deuxième opération de symétrie : plan de glissment axial (x, y, z)->(-y, -x, z) + c/2\")\n",
    "i_atom = 2\n",
    "i_symmop = 20\n",
    "symmop = symmops[i_symmop - 1]\n",
    "print(symmop)\n",
    "pos_init = conv_struc.sites[i_atom -1].frac_coords\n",
    "print(\"Position initiale : \",pos_init)\n",
    "pos_final = symmop.operate(pos_init)\n",
    "print(\"Position après symétrie : \",pos_final)\n",
    "print(\"color lightsalmon : Argon\")\n",
    "print(\"color gold : Bismuth\")\n",
    "print(\"color palegreen : Sulfur\")\n",
    "\n",
    "view = quick_view(prim_struc, \"packed\", conventional = True)\n",
    "display(view)\n",
    "view.script('draw SYMOP ' + str(i_symmop) + ' {atomno = ' + str(i_atom) + '}')\n",
    "view.script('select argon; color lightsalmon')\n",
    "view.script('select bismuth; color gold')\n",
    "view.script('select sulfur; color palegreen')\n",
    "view.script('draw SYMOP ' + str(i_symmop) + ' {atomno = ' + str(i_atom) + '}')"
   ]
  },
  {
   "cell_type": "code",
   "execution_count": 23,
   "id": "bfe039aa",
   "metadata": {
    "scrolled": true
   },
   "outputs": [
    {
     "name": "stdout",
     "output_type": "stream",
     "text": [
      "Troisième opération de symétrie : Réflexion (x, y, z)->(-x+y, y, z) \n",
      "Rot:\n",
      "[[-1.  1.  0.]\n",
      " [ 0.  1.  0.]\n",
      " [ 0.  0.  1.]]\n",
      "tau\n",
      "[0. 0. 0.]\n",
      "Position initiale :  [0.66666667 0.33333333 0.33333333]\n",
      "Position après symétrie :  [-0.33333333  0.33333333  0.33333333]\n",
      "color lightsalmon : Argon\n",
      "color gold : Bismuth\n",
      "color palegreen : Sulfur\n"
     ]
    },
    {
     "data": {
      "application/vnd.jupyter.widget-view+json": {
       "model_id": "12c43f88ce8c4317b5d4c007271f6f5a",
       "version_major": 2,
       "version_minor": 0
      },
      "text/plain": [
       "JsmolView(layout=Layout(align_self='stretch', height='400px'))"
      ]
     },
     "metadata": {},
     "output_type": "display_data"
    }
   ],
   "source": [
    "print(\"Troisième opération de symétrie : Réflexion (x, y, z)->(-x+y, y, z) \")\n",
    "i_atom = 5\n",
    "i_symmop = 10\n",
    "symmop = symmops[i_symmop - 1]\n",
    "print(symmop)\n",
    "pos_init = conv_struc.sites[i_atom -1].frac_coords\n",
    "print(\"Position initiale : \",pos_init)\n",
    "pos_final = symmop.operate(pos_init)\n",
    "print(\"Position après symétrie : \",pos_final)\n",
    "print(\"color lightsalmon : Argon\")\n",
    "print(\"color gold : Bismuth\")\n",
    "print(\"color palegreen : Sulfur\")\n",
    "\n",
    "view = quick_view(prim_struc, \"packed\", conventional = True)\n",
    "display(view)\n",
    "view.script('draw SYMOP ' + str(i_symmop) + ' {atomno = ' + str(i_atom) + '}')\n",
    "view.script('select argon; color lightsalmon')\n",
    "view.script('select bismuth; color gold')\n",
    "view.script('select sulfur; color palegreen')\n",
    "view.script('draw SYMOP ' + str(i_symmop) + ' {atomno = ' + str(i_atom) + '}')"
   ]
  },
  {
   "cell_type": "code",
   "execution_count": null,
   "id": "0d12094a",
   "metadata": {},
   "outputs": [],
   "source": []
  }
 ],
 "metadata": {
  "kernelspec": {
   "display_name": "Python 3 (ipykernel)",
   "language": "python",
   "name": "python3"
  },
  "language_info": {
   "codemirror_mode": {
    "name": "ipython",
    "version": 3
   },
   "file_extension": ".py",
   "mimetype": "text/x-python",
   "name": "python",
   "nbconvert_exporter": "python",
   "pygments_lexer": "ipython3",
   "version": "3.9.13"
  }
 },
 "nbformat": 4,
 "nbformat_minor": 5
}
